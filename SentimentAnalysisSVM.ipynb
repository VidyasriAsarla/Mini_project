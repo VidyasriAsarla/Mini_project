{
  "nbformat": 4,
  "nbformat_minor": 0,
  "metadata": {
    "colab": {
      "provenance": [],
      "include_colab_link": true
    },
    "kernelspec": {
      "name": "python3",
      "display_name": "Python 3"
    },
    "language_info": {
      "name": "python"
    }
  },
  "cells": [
    {
      "cell_type": "markdown",
      "metadata": {
        "id": "view-in-github",
        "colab_type": "text"
      },
      "source": [
        "<a href=\"https://colab.research.google.com/github/VidyasriAsarla/Mini_project/blob/main/SentimentAnalysisSVM.ipynb\" target=\"_parent\"><img src=\"https://colab.research.google.com/assets/colab-badge.svg\" alt=\"Open In Colab\"/></a>"
      ]
    },
    {
      "cell_type": "code",
      "execution_count": null,
      "metadata": {
        "id": "X1ZidgrNXI5z"
      },
      "outputs": [],
      "source": [
        "import pandas as pd\n",
        "import numpy as np\n",
        "import nltk\n",
        "from nltk.corpus import stopwords\n",
        "from sklearn.feature_extraction.text import TfidfVectorizer\n",
        "from sklearn.model_selection import train_test_split\n",
        "from sklearn import svm\n",
        "from sklearn.metrics import classification_report, accuracy_score\n",
        "import pickle"
      ]
    },
    {
      "cell_type": "code",
      "source": [
        "nltk.download(\"stopwords\")"
      ],
      "metadata": {
        "colab": {
          "base_uri": "https://localhost:8080/"
        },
        "id": "qdbZD5DwZldb",
        "outputId": "a2f4fbfe-ff32-4c5d-c5ce-0b7a5a2da101"
      },
      "execution_count": null,
      "outputs": [
        {
          "output_type": "stream",
          "name": "stderr",
          "text": [
            "[nltk_data] Downloading package stopwords to /root/nltk_data...\n",
            "[nltk_data]   Package stopwords is already up-to-date!\n"
          ]
        },
        {
          "output_type": "execute_result",
          "data": {
            "text/plain": [
              "True"
            ]
          },
          "metadata": {},
          "execution_count": 14
        }
      ]
    },
    {
      "cell_type": "code",
      "source": [
        "df = pd.read_csv(\"reviews.txt\", sep = \"\\t\", names = [\"Reviews\", \"Comments\"])"
      ],
      "metadata": {
        "id": "QPEBHvtjXszc"
      },
      "execution_count": null,
      "outputs": []
    },
    {
      "cell_type": "code",
      "source": [
        "df.head()\n",
        "df[\"Reviews\"].value_counts()"
      ],
      "metadata": {
        "id": "rFCOuqwqXs2o",
        "colab": {
          "base_uri": "https://localhost:8080/"
        },
        "outputId": "bcf37d70-c2d3-4f41-cd11-956a3029e915"
      },
      "execution_count": null,
      "outputs": [
        {
          "output_type": "execute_result",
          "data": {
            "text/plain": [
              "1    3943\n",
              "0    2975\n",
              "Name: Reviews, dtype: int64"
            ]
          },
          "metadata": {},
          "execution_count": 16
        }
      ]
    },
    {
      "cell_type": "code",
      "source": [
        "stopset = set(stopwords.words('english'))"
      ],
      "metadata": {
        "id": "0d2vDEz0Xs4U"
      },
      "execution_count": null,
      "outputs": []
    },
    {
      "cell_type": "code",
      "source": [
        "vectorizer = TfidfVectorizer(use_idf = True,lowercase = True, strip_accents='ascii',stop_words=stopset)"
      ],
      "metadata": {
        "id": "tdYe00IMXs7L"
      },
      "execution_count": null,
      "outputs": []
    },
    {
      "cell_type": "code",
      "source": [
        "X = vectorizer.fit_transform(df.Comments)\n",
        "y = df.Reviews\n",
        "pickle.dump(vectorizer, open('svm_transform.pkl', 'wb'))"
      ],
      "metadata": {
        "id": "bTWj7q05ZuZv"
      },
      "execution_count": null,
      "outputs": []
    },
    {
      "cell_type": "code",
      "source": [
        "X_train, X_test, y_train, y_test = train_test_split(X, y, test_size=0.20, random_state=42)"
      ],
      "metadata": {
        "id": "dB8jN9d7Zuct"
      },
      "execution_count": null,
      "outputs": []
    },
    {
      "cell_type": "code",
      "source": [
        "classifier = svm.SVC(kernel='linear', gamma='auto', C=2)\n",
        "classifier.fit(X_train,y_train)"
      ],
      "metadata": {
        "id": "vSHVb1WWZue_",
        "colab": {
          "base_uri": "https://localhost:8080/"
        },
        "outputId": "b8967f1b-825d-466e-b1f7-79ab734874a3"
      },
      "execution_count": null,
      "outputs": [
        {
          "output_type": "execute_result",
          "data": {
            "text/plain": [
              "SVC(C=2, gamma='auto', kernel='linear')"
            ]
          },
          "metadata": {},
          "execution_count": 21
        }
      ]
    },
    {
      "cell_type": "code",
      "source": [
        "y_predict = classifier.predict(X_test)\n",
        "print(classification_report(y_test, y_predict))"
      ],
      "metadata": {
        "id": "crsWev99Zuh9",
        "colab": {
          "base_uri": "https://localhost:8080/"
        },
        "outputId": "44c15ca7-64e1-4206-dc9f-2ea14e551393"
      },
      "execution_count": null,
      "outputs": [
        {
          "output_type": "stream",
          "name": "stdout",
          "text": [
            "              precision    recall  f1-score   support\n",
            "\n",
            "           0       0.99      0.98      0.99       580\n",
            "           1       0.99      0.99      0.99       804\n",
            "\n",
            "    accuracy                           0.99      1384\n",
            "   macro avg       0.99      0.99      0.99      1384\n",
            "weighted avg       0.99      0.99      0.99      1384\n",
            "\n"
          ]
        }
      ]
    },
    {
      "cell_type": "code",
      "source": [
        "print(accuracy_score(y_test, y_predict) * 100)"
      ],
      "metadata": {
        "colab": {
          "base_uri": "https://localhost:8080/"
        },
        "id": "jlTQ5B5qdVZK",
        "outputId": "6cd91877-6d4b-4ff4-ca95-7058e5788a6a"
      },
      "execution_count": null,
      "outputs": [
        {
          "output_type": "stream",
          "name": "stdout",
          "text": [
            "98.98843930635837\n"
          ]
        }
      ]
    },
    {
      "cell_type": "code",
      "source": [
        "filename = 'svm_model.pkl'\n",
        "pickle.dump(classifier, open(filename, 'wb'))"
      ],
      "metadata": {
        "id": "jGg8XbFIZ3b1"
      },
      "execution_count": null,
      "outputs": []
    }
  ]
}